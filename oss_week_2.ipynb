{
  "nbformat": 4,
  "nbformat_minor": 0,
  "metadata": {
    "colab": {
      "provenance": [],
      "authorship_tag": "ABX9TyM4P4iNRUexnWlF5HFygoLw",
      "include_colab_link": true
    },
    "kernelspec": {
      "name": "python3",
      "display_name": "Python 3"
    },
    "language_info": {
      "name": "python"
    }
  },
  "cells": [
    {
      "cell_type": "markdown",
      "metadata": {
        "id": "view-in-github",
        "colab_type": "text"
      },
      "source": [
        "<a href=\"https://colab.research.google.com/github/simrok/my-oss/blob/main/oss_week_2.ipynb\" target=\"_parent\"><img src=\"https://colab.research.google.com/assets/colab-badge.svg\" alt=\"Open In Colab\"/></a>"
      ]
    },
    {
      "cell_type": "code",
      "execution_count": null,
      "metadata": {
        "id": "XGzpFiCCmR6r"
      },
      "outputs": [],
      "source": []
    },
    {
      "cell_type": "markdown",
      "source": [
        "## 1일차: 불국사 방문하기\n",
        "\n",
        "& c  = a^2  + 6 \\alpha $\n",
        "\n",
        "🔥\n",
        "[어느 사이트](http: )\n",
        "\n",
        "\n",
        "end\n",
        "ctrl rightbutton\n",
        "alt tab  alt shift tab"
      ],
      "metadata": {
        "id": "hel7pdFXmThM"
      }
    },
    {
      "cell_type": "code",
      "source": [
        "a = 60\n"
      ],
      "metadata": {
        "id": "55eZ0woumwOI"
      },
      "execution_count": null,
      "outputs": []
    },
    {
      "cell_type": "code",
      "source": [
        "def abc (a, b):\n",
        "  # 주석\n",
        "   return c"
      ],
      "metadata": {
        "id": "GSnn4wyynBpX"
      },
      "execution_count": null,
      "outputs": []
    },
    {
      "cell_type": "code",
      "source": [
        "date_input = '2024-03-04' #@param"
      ],
      "metadata": {
        "id": "HWUcwlM1pMBU"
      },
      "execution_count": null,
      "outputs": []
    }
  ]
}